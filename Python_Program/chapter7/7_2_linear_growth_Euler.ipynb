{
 "cells": [
  {
   "cell_type": "code",
   "execution_count": 1,
   "metadata": {},
   "outputs": [
    {
     "name": "stdout",
     "output_type": "stream",
     "text": [
      "5678810.78609406\n"
     ]
    }
   ],
   "source": [
    "import matplotlib.pyplot as plt\n",
    "\n",
    "def euler_ivp(f, x0, y0, h, x):\n",
    "  \"\"\"\n",
    "  Parameters\n",
    "  ----------\n",
    "  f  : function\n",
    "  x0 : float :  initial value\n",
    "  y0 : float :  initial value\n",
    "  h  : float :  step size\n",
    "  x  : float :  final point \n",
    "      \n",
    "  Returns\n",
    "  -------  \n",
    "  float : solution at x\n",
    "  \"\"\"\n",
    "  for i in range(int(round((x-x0)/h))):\n",
    "    y0 = y0 + f(x0, y0) * h\n",
    "    x0 = x0 + h\n",
    "    plt.plot(x0,y0,'ro')\n",
    "  return y0\n",
    "\n",
    "if __name__ == '__main__':\n",
    "  k = 3  \n",
    "  f = lambda x, y : k*y \n",
    "  plt.plot(1,800,'ro')  \n",
    "  print(euler_ivp(f, 1, 800, 0.01, 4.0))\n",
    "    \n",
    "  tm = [1, 2, 3, 4]\n",
    "  pm = [800, 6400, 51200, 6009600]\n",
    "  plt.plot(tm,pm,'bo')"
   ]
  },
  {
   "cell_type": "code",
   "execution_count": 2,
   "metadata": {},
   "outputs": [
    {
     "data": {
      "text/plain": [
       "[<matplotlib.lines.Line2D at 0x2b8b55a5eb8>]"
      ]
     },
     "execution_count": 2,
     "metadata": {},
     "output_type": "execute_result"
    },
    {
     "data": {
      "image/png": "[encoded data removed]",
      "text/plain": [
       "<matplotlib.figure.Figure at 0x2b8b3e732e8>"
      ]
     },
     "metadata": {},
     "output_type": "display_data"
    }
   ],
   "source": [
    "  tm = [1, 2, 3, 4]\n",
    "  pm = [800, 6400, 51200, 6009600]\n",
    "  plt.plot(tm,pm,'bo')"
   ]
  },
  {
   "cell_type": "code",
   "execution_count": null,
   "metadata": {},
   "outputs": [],
   "source": []
  }
 ],
 "metadata": {
  "kernelspec": {
   "display_name": "Python 3",
   "language": "python",
   "name": "python3"
  },
  "language_info": {
   "codemirror_mode": {
    "name": "ipython",
    "version": 3
   },
   "file_extension": ".py",
   "mimetype": "text/x-python",
   "name": "python",
   "nbconvert_exporter": "python",
   "pygments_lexer": "ipython3",
   "version": "3.6.4"
  }
 },
 "nbformat": 4,
 "nbformat_minor": 1
}

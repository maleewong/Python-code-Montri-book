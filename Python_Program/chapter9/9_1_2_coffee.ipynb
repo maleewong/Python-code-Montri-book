{
 "cells": [
  {
   "cell_type": "code",
   "execution_count": 1,
   "metadata": {
    "scrolled": true
   },
   "outputs": [],
   "source": [
    "import matplotlib.pyplot as plt\n",
    "\n",
    "def euler(f, x0, y0, dt, xn):\n",
    "  x = [x0]\n",
    "  y = [y0]\n",
    "  n = int(round((xn-x0)/dt))\n",
    "  for i in range(n):\n",
    "    y0 = y0 + f(x0, y0)*dt\n",
    "    x0 = x0 + dt\n",
    "    x.append(x0)\n",
    "    y.append(y0)\n",
    "  return x,y\n",
    "\n",
    "t0 = 0        # initial time\n",
    "T0 = 25       # initial temperature \n",
    "dt = 0.01     # time step\n",
    "tn = 50       # final time\n",
    "w = 0.1       # heat transfer contant\n",
    "T_env = 30    # surrounding temperature\n",
    "f  = lambda t, T : -w*(T - T_env)   # ODE\n",
    "t, T = euler(f, t0, T0, dt, tn)     # solve by Euler's method\n",
    "plt.plot(t,T,'b-')\n",
    "plt.xlabel('t')\n",
    "plt.ylabel('T')\n",
    "plt.title('Newton s Cooling Law')\n",
    "plt.savefig('coffee.eps', format='eps') \n"
   ]
  },
  {
   "cell_type": "code",
   "execution_count": 10,
   "metadata": {},
   "outputs": [
    {
     "name": "stdout",
     "output_type": "stream",
     "text": [
      "9.162907318741551\n"
     ]
    }
   ],
   "source": [
    "import numpy as np\n",
    "\n",
    "T0 = 25\n",
    "tn = 0.1\n",
    "Tn = 28\n",
    "T_env = 30\n",
    "\n",
    "w = (1/tn)*np.log( (T0-T_env)/(Tn-T_env) )\n",
    "print(w)\n"
   ]
  },
  {
   "cell_type": "code",
   "execution_count": null,
   "metadata": {},
   "outputs": [],
   "source": []
  }
 ],
 "metadata": {
  "kernelspec": {
   "display_name": "Python 3",
   "language": "python",
   "name": "python3"
  },
  "language_info": {
   "codemirror_mode": {
    "name": "ipython",
    "version": 3
   },
   "file_extension": ".py",
   "mimetype": "text/x-python",
   "name": "python",
   "nbconvert_exporter": "python",
   "pygments_lexer": "ipython3",
   "version": "3.7.4"
  }
 },
 "nbformat": 4,
 "nbformat_minor": 1
}

{
 "cells": [
  {
   "cell_type": "code",
   "execution_count": 2,
   "metadata": {},
   "outputs": [],
   "source": [
    "import numpy as np \n",
    "import pandas as pd\n",
    "import dateutil\n",
    "import matplotlib.pyplot as plt\n",
    "import seaborn as sns\n",
    "import random\n",
    "\n",
    "df = pd.read_csv('covid_19_data.csv')"
   ]
  },
  {
   "cell_type": "code",
   "execution_count": 18,
   "metadata": {},
   "outputs": [
    {
     "name": "stdout",
     "output_type": "stream",
     "text": [
      "Requirement already satisfied: ddeint in c:\\programdata\\anaconda3\\lib\\site-packages (0.2)\n",
      "Requirement already satisfied: numpy in c:\\programdata\\anaconda3\\lib\\site-packages (from ddeint) (1.16.5)\n",
      "Requirement already satisfied: scipy in c:\\programdata\\anaconda3\\lib\\site-packages (from ddeint) (1.4.1)\n"
     ]
    },
    {
     "name": "stderr",
     "output_type": "stream",
     "text": [
      "WARNING: You are using pip version 20.0.2; however, version 21.0.1 is available.\n",
      "You should consider upgrading via the 'c:\\programdata\\anaconda3\\python.exe -m pip install --upgrade pip' command.\n"
     ]
    }
   ],
   "source": [
    "!pip install ddeint"
   ]
  },
  {
   "cell_type": "code",
   "execution_count": 3,
   "metadata": {},
   "outputs": [
    {
     "data": {
      "text/html": [
       "<div>\n",
       "<style scoped>\n",
       "    .dataframe tbody tr th:only-of-type {\n",
       "        vertical-align: middle;\n",
       "    }\n",
       "\n",
       "    .dataframe tbody tr th {\n",
       "        vertical-align: top;\n",
       "    }\n",
       "\n",
       "    .dataframe thead th {\n",
       "        text-align: right;\n",
       "    }\n",
       "</style>\n",
       "<table border=\"1\" class=\"dataframe\">\n",
       "  <thead>\n",
       "    <tr style=\"text-align: right;\">\n",
       "      <th></th>\n",
       "      <th>SNo</th>\n",
       "      <th>ObservationDate</th>\n",
       "      <th>Province/State</th>\n",
       "      <th>Country/Region</th>\n",
       "      <th>Last Update</th>\n",
       "      <th>Confirmed</th>\n",
       "      <th>Deaths</th>\n",
       "      <th>Recovered</th>\n",
       "    </tr>\n",
       "  </thead>\n",
       "  <tbody>\n",
       "    <tr>\n",
       "      <td>0</td>\n",
       "      <td>1</td>\n",
       "      <td>01/22/2020</td>\n",
       "      <td>Anhui</td>\n",
       "      <td>Mainland China</td>\n",
       "      <td>1/22/2020 17:00</td>\n",
       "      <td>1.0</td>\n",
       "      <td>0.0</td>\n",
       "      <td>0.0</td>\n",
       "    </tr>\n",
       "    <tr>\n",
       "      <td>1</td>\n",
       "      <td>2</td>\n",
       "      <td>01/22/2020</td>\n",
       "      <td>Beijing</td>\n",
       "      <td>Mainland China</td>\n",
       "      <td>1/22/2020 17:00</td>\n",
       "      <td>14.0</td>\n",
       "      <td>0.0</td>\n",
       "      <td>0.0</td>\n",
       "    </tr>\n",
       "    <tr>\n",
       "      <td>2</td>\n",
       "      <td>3</td>\n",
       "      <td>01/22/2020</td>\n",
       "      <td>Chongqing</td>\n",
       "      <td>Mainland China</td>\n",
       "      <td>1/22/2020 17:00</td>\n",
       "      <td>6.0</td>\n",
       "      <td>0.0</td>\n",
       "      <td>0.0</td>\n",
       "    </tr>\n",
       "    <tr>\n",
       "      <td>3</td>\n",
       "      <td>4</td>\n",
       "      <td>01/22/2020</td>\n",
       "      <td>Fujian</td>\n",
       "      <td>Mainland China</td>\n",
       "      <td>1/22/2020 17:00</td>\n",
       "      <td>1.0</td>\n",
       "      <td>0.0</td>\n",
       "      <td>0.0</td>\n",
       "    </tr>\n",
       "    <tr>\n",
       "      <td>4</td>\n",
       "      <td>5</td>\n",
       "      <td>01/22/2020</td>\n",
       "      <td>Gansu</td>\n",
       "      <td>Mainland China</td>\n",
       "      <td>1/22/2020 17:00</td>\n",
       "      <td>0.0</td>\n",
       "      <td>0.0</td>\n",
       "      <td>0.0</td>\n",
       "    </tr>\n",
       "    <tr>\n",
       "      <td>...</td>\n",
       "      <td>...</td>\n",
       "      <td>...</td>\n",
       "      <td>...</td>\n",
       "      <td>...</td>\n",
       "      <td>...</td>\n",
       "      <td>...</td>\n",
       "      <td>...</td>\n",
       "      <td>...</td>\n",
       "    </tr>\n",
       "    <tr>\n",
       "      <td>5980</td>\n",
       "      <td>5981</td>\n",
       "      <td>03/16/2020</td>\n",
       "      <td>Xinjiang</td>\n",
       "      <td>Mainland China</td>\n",
       "      <td>2020-03-11T02:18:14</td>\n",
       "      <td>76.0</td>\n",
       "      <td>3.0</td>\n",
       "      <td>73.0</td>\n",
       "    </tr>\n",
       "    <tr>\n",
       "      <td>5981</td>\n",
       "      <td>5982</td>\n",
       "      <td>03/16/2020</td>\n",
       "      <td>Inner Mongolia</td>\n",
       "      <td>Mainland China</td>\n",
       "      <td>2020-03-16T14:38:45</td>\n",
       "      <td>75.0</td>\n",
       "      <td>1.0</td>\n",
       "      <td>73.0</td>\n",
       "    </tr>\n",
       "    <tr>\n",
       "      <td>5982</td>\n",
       "      <td>5983</td>\n",
       "      <td>03/16/2020</td>\n",
       "      <td>Ningxia</td>\n",
       "      <td>Mainland China</td>\n",
       "      <td>2020-03-16T14:38:45</td>\n",
       "      <td>75.0</td>\n",
       "      <td>0.0</td>\n",
       "      <td>75.0</td>\n",
       "    </tr>\n",
       "    <tr>\n",
       "      <td>6042</td>\n",
       "      <td>6043</td>\n",
       "      <td>03/16/2020</td>\n",
       "      <td>Qinghai</td>\n",
       "      <td>Mainland China</td>\n",
       "      <td>2020-03-11T02:18:14</td>\n",
       "      <td>18.0</td>\n",
       "      <td>0.0</td>\n",
       "      <td>18.0</td>\n",
       "    </tr>\n",
       "    <tr>\n",
       "      <td>6129</td>\n",
       "      <td>6130</td>\n",
       "      <td>03/16/2020</td>\n",
       "      <td>Tibet</td>\n",
       "      <td>Mainland China</td>\n",
       "      <td>2020-03-11T02:18:14</td>\n",
       "      <td>1.0</td>\n",
       "      <td>0.0</td>\n",
       "      <td>1.0</td>\n",
       "    </tr>\n",
       "  </tbody>\n",
       "</table>\n",
       "<p>1703 rows × 8 columns</p>\n",
       "</div>"
      ],
      "text/plain": [
       "       SNo ObservationDate  Province/State  Country/Region  \\\n",
       "0        1      01/22/2020           Anhui  Mainland China   \n",
       "1        2      01/22/2020         Beijing  Mainland China   \n",
       "2        3      01/22/2020       Chongqing  Mainland China   \n",
       "3        4      01/22/2020          Fujian  Mainland China   \n",
       "4        5      01/22/2020           Gansu  Mainland China   \n",
       "...    ...             ...             ...             ...   \n",
       "5980  5981      03/16/2020        Xinjiang  Mainland China   \n",
       "5981  5982      03/16/2020  Inner Mongolia  Mainland China   \n",
       "5982  5983      03/16/2020         Ningxia  Mainland China   \n",
       "6042  6043      03/16/2020         Qinghai  Mainland China   \n",
       "6129  6130      03/16/2020           Tibet  Mainland China   \n",
       "\n",
       "              Last Update  Confirmed  Deaths  Recovered  \n",
       "0         1/22/2020 17:00        1.0     0.0        0.0  \n",
       "1         1/22/2020 17:00       14.0     0.0        0.0  \n",
       "2         1/22/2020 17:00        6.0     0.0        0.0  \n",
       "3         1/22/2020 17:00        1.0     0.0        0.0  \n",
       "4         1/22/2020 17:00        0.0     0.0        0.0  \n",
       "...                   ...        ...     ...        ...  \n",
       "5980  2020-03-11T02:18:14       76.0     3.0       73.0  \n",
       "5981  2020-03-16T14:38:45       75.0     1.0       73.0  \n",
       "5982  2020-03-16T14:38:45       75.0     0.0       75.0  \n",
       "6042  2020-03-11T02:18:14       18.0     0.0       18.0  \n",
       "6129  2020-03-11T02:18:14        1.0     0.0        1.0  \n",
       "\n",
       "[1703 rows x 8 columns]"
      ]
     },
     "execution_count": 3,
     "metadata": {},
     "output_type": "execute_result"
    }
   ],
   "source": [
    "df1 = df[df['Country/Region']=='Mainland China']\n",
    "df1"
   ]
  },
  {
   "cell_type": "code",
   "execution_count": 4,
   "metadata": {},
   "outputs": [
    {
     "data": {
      "text/plain": [
       "(1703, 8)"
      ]
     },
     "execution_count": 4,
     "metadata": {},
     "output_type": "execute_result"
    }
   ],
   "source": [
    "df1.shape"
   ]
  },
  {
   "cell_type": "code",
   "execution_count": 5,
   "metadata": {},
   "outputs": [
    {
     "name": "stderr",
     "output_type": "stream",
     "text": [
      "C:\\ProgramData\\Anaconda3\\lib\\site-packages\\ipykernel_launcher.py:1: SettingWithCopyWarning: \n",
      "A value is trying to be set on a copy of a slice from a DataFrame.\n",
      "Try using .loc[row_indexer,col_indexer] = value instead\n",
      "\n",
      "See the caveats in the documentation: http://pandas.pydata.org/pandas-docs/stable/user_guide/indexing.html#returning-a-view-versus-a-copy\n",
      "  \"\"\"Entry point for launching an IPython kernel.\n"
     ]
    }
   ],
   "source": [
    "df1['ObservationDate'] = pd.to_datetime(df1['ObservationDate'])"
   ]
  },
  {
   "cell_type": "code",
   "execution_count": 7,
   "metadata": {},
   "outputs": [],
   "source": [
    "df_China = df1[{\"ObservationDate\",\"Confirmed\",\"Deaths\",\"Recovered\"}]"
   ]
  },
  {
   "cell_type": "code",
   "execution_count": 8,
   "metadata": {},
   "outputs": [
    {
     "data": {
      "text/plain": [
       "Deaths             0\n",
       "Confirmed          0\n",
       "Recovered          0\n",
       "ObservationDate    0\n",
       "dtype: int64"
      ]
     },
     "execution_count": 8,
     "metadata": {},
     "output_type": "execute_result"
    }
   ],
   "source": [
    "df_China.isnull().sum()"
   ]
  },
  {
   "cell_type": "code",
   "execution_count": 9,
   "metadata": {},
   "outputs": [
    {
     "data": {
      "text/plain": [
       "1703"
      ]
     },
     "execution_count": 9,
     "metadata": {},
     "output_type": "execute_result"
    }
   ],
   "source": [
    "nday = df_China['Confirmed'].values.shape[0]\n",
    "nday"
   ]
  },
  {
   "cell_type": "code",
   "execution_count": 10,
   "metadata": {},
   "outputs": [],
   "source": [
    "num_death = df_China['Deaths'].values\n",
    "num_confirmed = df_China['Confirmed'].values\n",
    "num_recovered = df_China['Recovered'].values"
   ]
  },
  {
   "cell_type": "code",
   "execution_count": 9,
   "metadata": {},
   "outputs": [],
   "source": [
    "infect_daily = num_confirmed - num_recovered - num_death\n"
   ]
  },
  {
   "cell_type": "code",
   "execution_count": 11,
   "metadata": {},
   "outputs": [
    {
     "name": "stderr",
     "output_type": "stream",
     "text": [
      "C:\\ProgramData\\Anaconda3\\lib\\site-packages\\ipykernel_launcher.py:1: SettingWithCopyWarning: \n",
      "A value is trying to be set on a copy of a slice from a DataFrame.\n",
      "Try using .loc[row_indexer,col_indexer] = value instead\n",
      "\n",
      "See the caveats in the documentation: http://pandas.pydata.org/pandas-docs/stable/user_guide/indexing.html#returning-a-view-versus-a-copy\n",
      "  \"\"\"Entry point for launching an IPython kernel.\n"
     ]
    }
   ],
   "source": [
    "df1['datetime'] = pd.to_datetime(df_China.ObservationDate)\n",
    "df1.index = df1['datetime']"
   ]
  },
  {
   "cell_type": "code",
   "execution_count": 12,
   "metadata": {},
   "outputs": [],
   "source": [
    "df2 = df1.resample('D').sum()\n",
    "inf_con = df2['Confirmed']\n",
    "inf_re = df2['Recovered']\n",
    "inf_dead = df2['Deaths']\n",
    "inf = inf_con.values - inf_re.values - inf_dead.values\n"
   ]
  },
  {
   "cell_type": "code",
   "execution_count": 13,
   "metadata": {},
   "outputs": [],
   "source": [
    "actual_confirm = inf\n",
    "actual_red = inf_re.values + inf_dead.values"
   ]
  },
  {
   "cell_type": "code",
   "execution_count": 13,
   "metadata": {},
   "outputs": [
    {
     "data": {
      "image/png": "[encoded data removed]",
      "text/plain": [
       "<Figure size 432x288 with 1 Axes>"
      ]
     },
     "metadata": {
      "needs_background": "light"
     },
     "output_type": "display_data"
    }
   ],
   "source": [
    "import numpy as np\n",
    "from scipy.integrate import odeint\n",
    "import matplotlib.pyplot as plt\n",
    "\n",
    "# Total population, N.\n",
    "N = 83000\n",
    "\n",
    "# Initial number of infected and recovered individuals.\n",
    "I0, R0 = 500, 50\n",
    "\n",
    "# Assume S + I + R = N\n",
    "S0 = N - I0 - R0\n",
    "\n",
    "# beta is infection rate, gamma is recovery rate, (unit 1/days).\n",
    "\n",
    "beta = 0.3\n",
    "gamma = 0.05\n",
    "\n",
    "# Discretize time 160 days \n",
    "t = np.linspace(0, 54, 55)\n",
    "\n",
    "# Define SIR model.\n",
    "def deriv(y, t, N, beta, gamma):\n",
    "    S, I, R = y\n",
    "    dSdt = -beta*S*I / N\n",
    "    dIdt =  beta*S*I / N - gamma*I\n",
    "    dRdt =  gamma*I\n",
    "    return dSdt, dIdt, dRdt\n",
    "\n",
    "# Set Initial values in term of vector\n",
    "y0 = S0, I0, R0\n",
    "\n",
    "# Integrate the ODE system using builtin odeint\n",
    "result1 = odeint(deriv, y0, t, args=(N, beta, gamma))\n",
    "\n",
    "# Get the numerical results over time\n",
    "S1, I1, R1 = result1.T\n",
    "\n",
    "# Visualization\n",
    "plt.plot(t, S1, 'b', alpha=0.5, lw=3, label='Susceptible')\n",
    "plt.plot(t, I1, 'r', alpha=0.5, lw=3, label='Infected')\n",
    "plt.plot(t, R1, 'g', alpha=0.5, lw=3, label='Recovered')\n",
    "plt.xlabel('Time (days)')\n",
    "plt.ylabel('Population (person)')\n",
    "plt.ylim(0,100000)\n",
    "legend = plt.legend()\n",
    "legend.get_frame().set_alpha(0.8)\n",
    "#plt.savefig('SIR.eps', bbox_inches='tight')\n",
    "plt.show()\n"
   ]
  },
  {
   "cell_type": "code",
   "execution_count": 14,
   "metadata": {},
   "outputs": [
    {
     "data": {
      "image/png": "[encoded data removed]",
      "text/plain": [
       "<Figure size 432x288 with 1 Axes>"
      ]
     },
     "metadata": {
      "needs_background": "light"
     },
     "output_type": "display_data"
    },
    {
     "name": "stdout",
     "output_type": "stream",
     "text": [
      "R0 =  5.999999999999999\n"
     ]
    }
   ],
   "source": [
    "x = range(55)\n",
    "y = inf\n",
    "z = actual_red\n",
    "\n",
    "fig = plt.figure()\n",
    "ax1 = fig.add_subplot(111)\n",
    "\n",
    "ax1.scatter(x, y, s=10, c='b', marker=\"s\", label='Actual Infect')\n",
    "ax1.plot(t,I1,'-b', label='Model Infect')\n",
    "\n",
    "ax1.scatter(x, z, s=10, c='r', marker=\"s\", label='Actual Recover')\n",
    "ax1.plot(t,R1,'-r', label='Model Recover')\n",
    "\n",
    "ax1.set(xlabel=\"Days\",\n",
    "       ylabel=\"Number of people\",\n",
    "       title=\"Corona Virus 2019 - China\")\n",
    "\n",
    "plt.legend(loc='upper left');\n",
    "plt.show()\n",
    "\n",
    "print('R0 = ',beta/gamma)"
   ]
  },
  {
   "cell_type": "code",
   "execution_count": 15,
   "metadata": {},
   "outputs": [
    {
     "name": "stdout",
     "output_type": "stream",
     "text": [
      "6\n",
      "Mininum beta, gamma, delay1, delay2 =  2.2008770999765366 0.04475715193685426 9 2\n"
     ]
    },
    {
     "data": {
      "image/png": "[encoded data removed]",
      "text/plain": [
       "<Figure size 432x288 with 1 Axes>"
      ]
     },
     "metadata": {
      "needs_background": "light"
     },
     "output_type": "display_data"
    }
   ],
   "source": [
    "# https://pypi.org/project/ddeint/\n",
    "\n",
    "from pylab import array, linspace, subplots\n",
    "from ddeint import ddeint\n",
    "\n",
    "from random import seed\n",
    "from random import random\n",
    "\n",
    "nstep = 10  # number steps of Monte Carlo simulation\n",
    "\n",
    "def model(Y, t, d1, d2, beta, gamma):\n",
    "    x, y, z = Y(t)\n",
    "    xd, yd, zd = Y(t - d1)\n",
    "    xdd, ydd, zdd = Y(t - d2)\n",
    "    return array([-beta*x*yd, beta*x*yd - gamma*ydd, gamma*ydd])\n",
    "\n",
    "N = 82000\n",
    "S0 = 81408\n",
    "I0 = 547\n",
    "R0 = 45\n",
    "\n",
    "g = lambda t: array([S0/N, I0/N, R0/N])\n",
    "tt = linspace(0, 54, 541)\n",
    "              \n",
    "\n",
    "rmse_inf_percent = [] \n",
    "beta = []\n",
    "gamma = []\n",
    "delay = []\n",
    "delay_re = []\n",
    "\n",
    "for i in range(nstep):\n",
    "    value1 = random() \n",
    "    value2 = random()\n",
    "    value3 = random()\n",
    "    value4 = random() \n",
    "\n",
    "    #scaled = minv + (value * (maxv - minv))\n",
    "\n",
    "    betar = 1.7 + (value1 * (2.4 - 1.7))   \n",
    "    gammar = 0.03 + (value2 * (0.08 - 0.013))  \n",
    "    delayr = round(7 + (value3 * (14 - 7)))  \n",
    "    delayre = round(1 + (value4 * (7 - 1))) \n",
    "    \n",
    "    yy = ddeint(model, g, tt, fargs=(delayr,delayre,betar,gammar))\n",
    "\n",
    "    Ia = []\n",
    "    for j in range(0,55):\n",
    "        ii = j*10\n",
    "        Ia.append(N*yy[ii,1])\n",
    "\n",
    "    \n",
    "    rmse_inf = np.sqrt(sum(np.power(np.abs(inf-Ia),2))/len(inf))\n",
    "    rmse_inf_percent.append((rmse_inf/N)*100)\n",
    "    \n",
    "    beta.append(betar)\n",
    "    gamma.append(gammar)\n",
    "    delay.append(delayr)\n",
    "    delay_re.append(delayre)\n",
    "\n",
    "index_min = np.argmin(rmse_inf_percent)\n",
    "print(index_min)\n",
    "print('Mininum beta, gamma, delay1, delay2 = ',beta[index_min], gamma[index_min], delay[index_min], delay_re[index_min])\n",
    "\n",
    "    \n",
    "# Final results    \n",
    "yf = ddeint(model, g, tt, fargs=(delay[index_min],delay_re[index_min], beta[index_min], gamma[index_min]))    \n",
    "\n",
    "x = range(55)\n",
    "y = inf\n",
    "z = actual_red\n",
    "\n",
    "fig = plt.figure()\n",
    "ax1 = fig.add_subplot(111)\n",
    "\n",
    "ax1.scatter(x, y, s=10, c='b', marker=\"s\", label='Actual Infect')\n",
    "ax1.plot(tt,N*yf[:,1],'-b', label='Model Infect')\n",
    "\n",
    "ax1.scatter(x, z, s=10, c='r', marker=\"s\", label='Actual Recover')\n",
    "ax1.plot(tt,N*yf[:,2],'-r', label='Model Recover')\n",
    "\n",
    "ax1.set(xlabel=\"Days\",\n",
    "       ylabel=\"Number of people\",\n",
    "       title=\"Corona Virus 2019 - China\")\n",
    "\n",
    "plt.legend(loc='upper left');\n",
    "plt.show()\n",
    "\n",
    "\n",
    "bb = beta[index_min]\n",
    "gg = gamma[index_min]\n",
    "d1 = delay[index_min]\n",
    "d2 = delay_re[index_min]\n",
    "\n"
   ]
  },
  {
   "cell_type": "code",
   "execution_count": 16,
   "metadata": {},
   "outputs": [
    {
     "name": "stderr",
     "output_type": "stream",
     "text": [
      "'c' argument looks like a single numeric RGB or RGBA sequence, which should be avoided as value-mapping will have precedence in case its length matches with 'x' & 'y'.  Please use a 2-D array with a single row if you really want to specify the same RGB or RGBA value for all points.\n"
     ]
    },
    {
     "data": {
      "image/png": "[encoded data removed]",
      "text/plain": [
       "<Figure size 432x288 with 1 Axes>"
      ]
     },
     "metadata": {
      "needs_background": "light"
     },
     "output_type": "display_data"
    }
   ],
   "source": [
    "import numpy as np\n",
    "import matplotlib.pyplot as plt\n",
    "\n",
    "colors = (0.6,0.6,0.9)\n",
    "\n",
    "nd = len(Ia)\n",
    "\n",
    "ts = []\n",
    "Ratio = []\n",
    "\n",
    "for i in range(d1,nd):\n",
    "    Ratio.append(Ia[i-d1]/Ia[i-d2])\n",
    "    ts.append(i)\n",
    "\n",
    "plt.scatter(ts,Ratio, c=colors, alpha=0.8)   \n",
    "plt.title('Plot of Infection Ratio China case')\n",
    "plt.xlabel('Days')\n",
    "plt.ylabel('Ratio I(t-d1)/I(t-d2)')\n",
    "plt.show()"
   ]
  },
  {
   "cell_type": "code",
   "execution_count": null,
   "metadata": {},
   "outputs": [],
   "source": []
  }
 ],
 "metadata": {
  "kernelspec": {
   "display_name": "Python 3",
   "language": "python",
   "name": "python3"
  },
  "language_info": {
   "codemirror_mode": {
    "name": "ipython",
    "version": 3
   },
   "file_extension": ".py",
   "mimetype": "text/x-python",
   "name": "python",
   "nbconvert_exporter": "python",
   "pygments_lexer": "ipython3",
   "version": "3.7.4"
  }
 },
 "nbformat": 4,
 "nbformat_minor": 2
}

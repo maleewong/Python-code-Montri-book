{
 "cells": [
  {
   "cell_type": "code",
   "execution_count": 13,
   "metadata": {},
   "outputs": [
    {
     "name": "stdout",
     "output_type": "stream",
     "text": [
      "x = 100, y = 25 \n"
     ]
    }
   ],
   "source": [
    "import sympy as sym\n",
    "\n",
    "x, y= sym.symbols('x, y')\n",
    "\n",
    "k1 = 0.5\n",
    "k2 = 0.02\n",
    "k3 = 0.004\n",
    "k4 = 0.4\n",
    "\n",
    "eq1 = k1*x-k2*x*y \n",
    "eq2 = k3*x*y-k4*y \n",
    "eqs = sym.solve([eq1,eq2],[x,y])[1]\n",
    "\n",
    "print('x = %d, y = %d ' %(eqs[0], eqs[1]))"
   ]
  },
  {
   "cell_type": "code",
   "execution_count": null,
   "metadata": {},
   "outputs": [],
   "source": []
  }
 ],
 "metadata": {
  "kernelspec": {
   "display_name": "Python 3",
   "language": "python",
   "name": "python3"
  },
  "language_info": {
   "codemirror_mode": {
    "name": "ipython",
    "version": 3
   },
   "file_extension": ".py",
   "mimetype": "text/x-python",
   "name": "python",
   "nbconvert_exporter": "python",
   "pygments_lexer": "ipython3",
   "version": "3.6.4"
  }
 },
 "nbformat": 4,
 "nbformat_minor": 2
}

{
 "cells": [
  {
   "cell_type": "code",
   "execution_count": 12,
   "metadata": {},
   "outputs": [
    {
     "name": "stdout",
     "output_type": "stream",
     "text": [
      "N =  100000 , Head =  49722 , Tail =  50278\n"
     ]
    }
   ],
   "source": [
    "import random\n",
    "import math\n",
    "import numpy as np\n",
    "\n",
    "N = 100000\n",
    "a = np.zeros(N)\n",
    "H = 0\n",
    "T = 0\n",
    "#seed_no = 8952\n",
    "#random.seed(seed_no)\n",
    "\n",
    "for j in range(N):\n",
    "    a = random.random()\n",
    "    if a < 0.5:\n",
    "        H = H + 1\n",
    "    else:\n",
    "        T = T + 1\n",
    "\n",
    "print(\"N = \", N, \", Head = \", H, \", Tail = \", T)"
   ]
  },
  {
   "cell_type": "code",
   "execution_count": 2,
   "metadata": {},
   "outputs": [],
   "source": [
    "#import random                            Subcommands to generate uniform, normal, or other distributions of random numbers\n",
    "\n",
    "#example\n",
    "#random.random()                          Uniform random numbers\n",
    "#random.gauss(mu, sigma)                  Normal random numbers with mean mu and standard deviation sigma\n",
    "\n",
    "#or import numpy as np\n",
    "#np.random.uniform(x1,x2,1)               numpy.random.uniform(low=0.0, high=1.0, size)"
   ]
  }
 ],
 "metadata": {
  "kernelspec": {
   "display_name": "Python 3",
   "language": "python",
   "name": "python3"
  },
  "language_info": {
   "codemirror_mode": {
    "name": "ipython",
    "version": 3
   },
   "file_extension": ".py",
   "mimetype": "text/x-python",
   "name": "python",
   "nbconvert_exporter": "python",
   "pygments_lexer": "ipython3",
   "version": "3.7.4"
  }
 },
 "nbformat": 4,
 "nbformat_minor": 2
}

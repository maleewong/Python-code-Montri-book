{
 "cells": [
  {
   "cell_type": "code",
   "execution_count": 7,
   "metadata": {},
   "outputs": [
    {
     "name": "stdout",
     "output_type": "stream",
     "text": [
      "Area is approximately, 4.16\n"
     ]
    },
    {
     "data": {
      "image/png": "[encoded data removed]",
      "text/plain": [
       "<Figure size 432x288 with 1 Axes>"
      ]
     },
     "metadata": {
      "needs_background": "light"
     },
     "output_type": "display_data"
    }
   ],
   "source": [
    "# https://barnesanalytics.com/monte-carlo-integration-in-python\n",
    "\n",
    "import numpy as np\n",
    "import pandas as pd\n",
    "import matplotlib.pyplot as plt\n",
    "\n",
    "def function1(x):\n",
    "    return x**3 \n",
    "\n",
    "def integrate(x1, x2, func, n): \n",
    "    \n",
    "    xx = np.linspace(x1, x2, n)\n",
    "    y1 = min(func(xx))\n",
    "    y2 = max(func(xx))\n",
    "    rec_area = (x2-x1)*(y2-y1)\n",
    "    \n",
    "    xs = []\n",
    "    ys = [] \n",
    "    check = []   \n",
    "    \n",
    "    for i in range(n):  \n",
    "        \n",
    "        x = np.random.uniform(x1, x2, 1)\n",
    "        y = np.random.uniform(y1, y2, 1)\n",
    "        xs.append(x)\n",
    "        ys.append(y)    \n",
    "        \n",
    "        if abs(y)>abs(func(x)):\n",
    "            check.append(0)\n",
    "        else:\n",
    "            check.append(1)       \n",
    "            \n",
    "    print('Area is approximately,', np.mean(check)*rec_area)        \n",
    "    return(xs, ys, check)\n",
    "\n",
    "x1 = 0\n",
    "x2 = 2\n",
    "npoint = 100\n",
    "\n",
    "x, y, c = integrate(x1, x2, function1, npoint)\n",
    "\n",
    "df = pd.DataFrame()\n",
    "df['x_cor'] = x\n",
    "df['y_cor'] = y\n",
    "df['check'] = c\n",
    "\n",
    "xx = np.linspace(x1, x2, npoint)\n",
    "\n",
    "plt.plot(xx,function1(xx), linewidth=3)\n",
    "plt.scatter(df[df['check']==0]['x_cor'], df[df['check']==0]['y_cor'], color='red')\n",
    "plt.scatter(df[df['check']==1]['x_cor'], df[df['check']==1]['y_cor'], color='blue')\n",
    "plt.xlabel('x')\n",
    "plt.ylabel('y')\n",
    "plt.title('Monte Carlo simulation for 1D integration')\n",
    "#plt.savefig('1Dintegrate.eps', format='eps')\n",
    "plt.show()\n",
    "\n"
   ]
  },
  {
   "cell_type": "code",
   "execution_count": 4,
   "metadata": {},
   "outputs": [],
   "source": [
    "from sympy import *"
   ]
  },
  {
   "cell_type": "code",
   "execution_count": 5,
   "metadata": {},
   "outputs": [],
   "source": [
    "xa = Symbol('xa')\n"
   ]
  },
  {
   "cell_type": "code",
   "execution_count": 6,
   "metadata": {},
   "outputs": [
    {
     "data": {
      "text/latex": [
       "$\\displaystyle 4$"
      ],
      "text/plain": [
       "4"
      ]
     },
     "execution_count": 6,
     "metadata": {},
     "output_type": "execute_result"
    }
   ],
   "source": [
    "integrate(xa**3, (xa,0,2))"
   ]
  },
  {
   "cell_type": "code",
   "execution_count": 50,
   "metadata": {},
   "outputs": [
    {
     "data": {
      "text/latex": [
       "$\\displaystyle \\frac{1995}{4}$"
      ],
      "text/plain": [
       "1995/4"
      ]
     },
     "execution_count": 50,
     "metadata": {},
     "output_type": "execute_result"
    }
   ],
   "source": [
    "integrate(5*xa**3 - 6*xa**2 - 3*xa + 1, (xa,0,5))"
   ]
  },
  {
   "cell_type": "code",
   "execution_count": 63,
   "metadata": {},
   "outputs": [
    {
     "data": {
      "text/plain": [
       "498.75"
      ]
     },
     "execution_count": 63,
     "metadata": {},
     "output_type": "execute_result"
    }
   ],
   "source": [
    "float(integrate(5*xa**3 - 6*xa**2 - 3*xa + 1, (xa,0,5)))"
   ]
  },
  {
   "cell_type": "code",
   "execution_count": 64,
   "metadata": {},
   "outputs": [
    {
     "data": {
      "text/latex": [
       "$\\displaystyle \\frac{32}{3}$"
      ],
      "text/plain": [
       "32/3"
      ]
     },
     "execution_count": 64,
     "metadata": {},
     "output_type": "execute_result"
    }
   ],
   "source": [
    "x1 = Symbol('x1')\n",
    "y1 = Symbol('y1')\n",
    "\n",
    "integrate(x1**2 + y1**2, (y1, 0, 2), (x1, 0, 2))"
   ]
  },
  {
   "cell_type": "code",
   "execution_count": null,
   "metadata": {},
   "outputs": [],
   "source": []
  }
 ],
 "metadata": {
  "kernelspec": {
   "display_name": "Python 3",
   "language": "python",
   "name": "python3"
  },
  "language_info": {
   "codemirror_mode": {
    "name": "ipython",
    "version": 3
   },
   "file_extension": ".py",
   "mimetype": "text/x-python",
   "name": "python",
   "nbconvert_exporter": "python",
   "pygments_lexer": "ipython3",
   "version": "3.7.4"
  }
 },
 "nbformat": 4,
 "nbformat_minor": 2
}
